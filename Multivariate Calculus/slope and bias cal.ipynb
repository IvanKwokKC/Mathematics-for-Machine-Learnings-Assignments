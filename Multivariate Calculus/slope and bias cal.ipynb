{
 "cells": [
  {
   "cell_type": "code",
   "execution_count": 30,
   "metadata": {},
   "outputs": [
    {
     "name": "stdout",
     "output_type": "stream",
     "text": [
      "[ 0.8  0.7  0.6  0.5  0.4]\n",
      "[ 0.85  0.75  0.55  0.25  0.1 ]\n"
     ]
    }
   ],
   "source": [
    "import numpy as np\n",
    "\n",
    "x = [0.8, 0.7, 0.6, 0.5, 0.4]\n",
    "y = [0.85, 0.75, 0.55, 0.25, 0.1]\n",
    "\n",
    "point = np.array([\n",
    "                [0.8,0.85],\n",
    "                [0.7,0.75],\n",
    "                [0.6, 0.55],\n",
    "                [0.5, 0.25],\n",
    "                [0.4, 0.1]\n",
    "                ])\n",
    "\n",
    "print(point[:,0])\n",
    "print(point[:,1])"
   ]
  },
  {
   "cell_type": "code",
   "execution_count": 26,
   "metadata": {},
   "outputs": [
    {
     "name": "stdout",
     "output_type": "stream",
     "text": [
      "[ 0.6  0.5]\n"
     ]
    }
   ],
   "source": [
    "means = np.mean(point,axis=0)\n",
    "print(means)"
   ]
  },
  {
   "cell_type": "code",
   "execution_count": 29,
   "metadata": {},
   "outputs": [
    {
     "name": "stdout",
     "output_type": "stream",
     "text": [
      "2.0\n"
     ]
    }
   ],
   "source": [
    "m = np.sum((point[:,0] - means[0]) * point[:,1]) / np.sum((point[:,0] - means[0])**2)\n",
    "print(m)"
   ]
  },
  {
   "cell_type": "code",
   "execution_count": 33,
   "metadata": {},
   "outputs": [
    {
     "name": "stdout",
     "output_type": "stream",
     "text": [
      "-0.7\n"
     ]
    }
   ],
   "source": [
    "c = means[1] - m * means[0]\n",
    "print(c)"
   ]
  }
 ],
 "metadata": {
  "kernelspec": {
   "display_name": "Python 3",
   "language": "python",
   "name": "python3"
  },
  "language_info": {
   "codemirror_mode": {
    "name": "ipython",
    "version": 3
   },
   "file_extension": ".py",
   "mimetype": "text/x-python",
   "name": "python",
   "nbconvert_exporter": "python",
   "pygments_lexer": "ipython3",
   "version": "3.6.2"
  }
 },
 "nbformat": 4,
 "nbformat_minor": 2
}
